{
 "cells": [
  {
   "cell_type": "code",
   "execution_count": null,
   "id": "a723de0d",
   "metadata": {},
   "outputs": [],
   "source": [
    "#Import All Libraries\n",
    "\n",
    "from bs4 import BeautifulSoup\n",
    "import requests\n",
    "import time\n",
    "import datetime\n",
    "\n",
    "import smtplib"
   ]
  },
  {
   "cell_type": "code",
   "execution_count": 113,
   "id": "2481ca29",
   "metadata": {},
   "outputs": [
    {
     "name": "stdout",
     "output_type": "stream",
     "text": [
      "\n",
      "            Cubelelo QiYi 2x2 3x3 Stickerless Cube Puzzle for Kids & Adults Magic Speedy Stress Buster Brainstorming Puzzle Cube (Multicolor) Combo Pack\n",
      "           \n",
      "\n",
      "                        ₹449.00\n",
      "                       \n"
     ]
    }
   ],
   "source": [
    "#Connect to website\n",
    "\n",
    "URL = 'https://www.amazon.in/Cubelelo-Beginner-Bundle-Stickerless-Puzzle/dp/B08CKQ9GJT/ref=zg_bs_1378471031_1/260-9938762-6907547?pd_rd_i=B08GHCPJ69&th=1'\n",
    "\n",
    "headers = {\"User-Agent\": \"Mozilla/5.0 (Windows NT 10.0; Win64; x64) AppleWebKit/537.36 (KHTML, like Gecko) Chrome/100.0.4896.127 Safari/537.36\", \"Accept-Encoding\":\"gzip, deflate\", \"Accept\":\"text/html,application/xhtml+xml,application/xml;q=0.9,*/*;q=0.8\", \"DNT\":\"1\",\"Connection\":\"close\", \"Upgrade-Insecure-Requests\":\"1\"}\n",
    "\n",
    "page = requests.get(URL, headers=headers)\n",
    "\n",
    "#Get all text from website\n",
    "\n",
    "soup1 = BeautifulSoup(page.content, \"html.parser\")\n",
    "\n",
    "soup2 = BeautifulSoup(soup1.prettify(),'html.parser')\n",
    "\n",
    "#Get required data from website\n",
    "\n",
    "title = soup2.find(id='productTitle').get_text()\n",
    "\n",
    "selection_class = 'a-offscreen'\n",
    "span = soup2.find_all('span', {'class': selection_class })\n",
    "price = span[0].get_text()\n",
    "\n",
    "print(title)\n",
    "print(price)"
   ]
  },
  {
   "cell_type": "code",
   "execution_count": 84,
   "id": "6c89ad2e",
   "metadata": {},
   "outputs": [
    {
     "name": "stdout",
     "output_type": "stream",
     "text": [
      "Cubelelo QiYi 2x2 3x3 Stickerless Cube Puzzle for Kids & Adults Magic Speedy Stress Buster Brainstorming Puzzle Cube (Multicolor) Combo Pack\n",
      "449.00\n"
     ]
    }
   ],
   "source": [
    "#Formating text\n",
    "title = title.strip()\n",
    "print(title)\n",
    "price = price.strip()[1:]\n",
    "print(price)"
   ]
  },
  {
   "cell_type": "code",
   "execution_count": 91,
   "id": "21f4d3d9",
   "metadata": {},
   "outputs": [
    {
     "name": "stdout",
     "output_type": "stream",
     "text": [
      "2022-04-24\n"
     ]
    }
   ],
   "source": [
    "#Import Date and time Library\n",
    "\n",
    "import datetime\n",
    "\n",
    "today = datetime.date.today()\n",
    "\n",
    "print(today)"
   ]
  },
  {
   "cell_type": "code",
   "execution_count": 95,
   "id": "74b0d2e3",
   "metadata": {},
   "outputs": [],
   "source": [
    "#Make and Save new CSV file called \"AazonWbsCaping\"\n",
    "\n",
    "import csv\n",
    "\n",
    "header = ['Title', 'Price', 'Date' ]\n",
    "data =  [title, price, today]\n",
    "\n",
    "with open('AazonWbsCaping.csv', 'w', newline='', encoding='UTF8') as f:\n",
    "    writer = csv.writer(f)\n",
    "    writer.writerow(header)\n",
    "    writer.writerow(data)"
   ]
  },
  {
   "cell_type": "code",
   "execution_count": 96,
   "id": "78f78edd",
   "metadata": {},
   "outputs": [
    {
     "name": "stdout",
     "output_type": "stream",
     "text": [
      "                                               Title  Price        Date\n",
      "0  Cubelelo QiYi 2x2 3x3 Stickerless Cube Puzzle ...  449.0  2022-04-24\n"
     ]
    }
   ],
   "source": [
    "#Import Panda Library\n",
    "\n",
    "import pandas as pd\n",
    "\n",
    "df = pd.read_csv(r'C:\\Users\\mayur\\AazonWbsCaping.csv')\n",
    "\n",
    "print(df)"
   ]
  },
  {
   "cell_type": "code",
   "execution_count": null,
   "id": "f8424455",
   "metadata": {},
   "outputs": [],
   "source": [
    "# Now we are appending data to csv\n",
    "\n",
    "with open('AazonWbsCaping.csv', 'a+', newline='', encoding='UTF8') as f:\n",
    "    writer = csv.writer(f)\n",
    "    writer.writerow(data)"
   ]
  },
  {
   "cell_type": "code",
   "execution_count": 108,
   "id": "2008202c",
   "metadata": {},
   "outputs": [],
   "source": [
    "##Automate The things\n",
    "\n",
    "def check_price():\n",
    "    URL = 'https://www.amazon.in/Cubelelo-Beginner-Bundle-Stickerless-Puzzle/dp/B08CKQ9GJT/ref=zg_bs_1378471031_1/260-9938762-6907547?pd_rd_i=B08GHCPJ69&th=1'\n",
    "\n",
    "    headers = {\"User-Agent\": \"Mozilla/5.0 (Windows NT 10.0; Win64; x64) AppleWebKit/537.36 (KHTML, like Gecko) Chrome/100.0.4896.127 Safari/537.36\", \"Accept-Encoding\":\"gzip, deflate\", \"Accept\":\"text/html,application/xhtml+xml,application/xml;q=0.9,*/*;q=0.8\", \"DNT\":\"1\",\"Connection\":\"close\", \"Upgrade-Insecure-Requests\":\"1\"}\n",
    "\n",
    "    page = requests.get(URL, headers=headers)\n",
    "\n",
    "    soup1 = BeautifulSoup(page.content, \"html.parser\")\n",
    "\n",
    "    soup2 = BeautifulSoup(soup1.prettify(),'html.parser')\n",
    "\n",
    "    title = soup2.find(id='productTitle').get_text()\n",
    "\n",
    "    selection_class = 'a-offscreen'\n",
    "    span = soup2.find_all('span', {'class': selection_class })\n",
    "    price = span[0].get_text()\n",
    "    \n",
    "    title = title.strip()\n",
    "    price = price.strip()[1:]\n",
    "    \n",
    "    import datetime\n",
    "\n",
    "    today = datetime.date.today()\n",
    "\n",
    "    print(today)\n",
    "    \n",
    "    import csv\n",
    "\n",
    "    header = ['Title', 'Price', 'Date' ]\n",
    "    data =  [title, price, today]\n",
    "\n",
    "    with open('AazonWbsCaping.csv', 'a+', newline='', encoding='UTF8') as f:\n",
    "        writer = csv.writer(f)\n",
    "        writer.writerow(data)\n",
    "    "
   ]
  },
  {
   "cell_type": "code",
   "execution_count": 111,
   "id": "e36bafba",
   "metadata": {
    "scrolled": true
   },
   "outputs": [
    {
     "name": "stdout",
     "output_type": "stream",
     "text": [
      "2022-04-24\n",
      "2022-04-24\n",
      "2022-04-24\n"
     ]
    },
    {
     "ename": "KeyboardInterrupt",
     "evalue": "",
     "output_type": "error",
     "traceback": [
      "\u001b[1;31m---------------------------------------------------------------------------\u001b[0m",
      "\u001b[1;31mKeyboardInterrupt\u001b[0m                         Traceback (most recent call last)",
      "\u001b[1;32m<ipython-input-111-de0dfc6ce37b>\u001b[0m in \u001b[0;36m<module>\u001b[1;34m\u001b[0m\n\u001b[0;32m      1\u001b[0m \u001b[1;32mwhile\u001b[0m\u001b[1;33m(\u001b[0m\u001b[1;32mTrue\u001b[0m\u001b[1;33m)\u001b[0m\u001b[1;33m:\u001b[0m\u001b[1;33m\u001b[0m\u001b[1;33m\u001b[0m\u001b[0m\n\u001b[0;32m      2\u001b[0m     \u001b[0mcheck_price\u001b[0m\u001b[1;33m(\u001b[0m\u001b[1;33m)\u001b[0m\u001b[1;33m\u001b[0m\u001b[1;33m\u001b[0m\u001b[0m\n\u001b[1;32m----> 3\u001b[1;33m     \u001b[0mtime\u001b[0m\u001b[1;33m.\u001b[0m\u001b[0msleep\u001b[0m\u001b[1;33m(\u001b[0m\u001b[1;36m6\u001b[0m\u001b[1;33m)\u001b[0m\u001b[1;33m\u001b[0m\u001b[1;33m\u001b[0m\u001b[0m\n\u001b[0m",
      "\u001b[1;31mKeyboardInterrupt\u001b[0m: "
     ]
    }
   ],
   "source": [
    "while(True):\n",
    "    check_price()\n",
    "    time.sleep(6)"
   ]
  },
  {
   "cell_type": "code",
   "execution_count": 112,
   "id": "93b6a481",
   "metadata": {
    "scrolled": true
   },
   "outputs": [
    {
     "name": "stdout",
     "output_type": "stream",
     "text": [
      "                                               Title  Price        Date\n",
      "0  Cubelelo QiYi 2x2 3x3 Stickerless Cube Puzzle ...  449.0  2022-04-24\n",
      "1  Cubelelo QiYi 2x2 3x3 Stickerless Cube Puzzle ...  449.0  2022-04-24\n",
      "2  Cubelelo QiYi 2x2 3x3 Stickerless Cube Puzzle ...  449.0  2022-04-24\n",
      "3  Cubelelo QiYi 2x2 3x3 Stickerless Cube Puzzle ...  449.0  2022-04-24\n",
      "4  Cubelelo QiYi 2x2 3x3 Stickerless Cube Puzzle ...  449.0  2022-04-24\n",
      "5  Cubelelo QiYi 2x2 3x3 Stickerless Cube Puzzle ...  449.0  2022-04-24\n",
      "6  Cubelelo QiYi 2x2 3x3 Stickerless Cube Puzzle ...  449.0  2022-04-24\n",
      "7  Cubelelo QiYi 2x2 3x3 Stickerless Cube Puzzle ...  449.0  2022-04-24\n"
     ]
    }
   ],
   "source": [
    "import pandas as pd\n",
    "\n",
    "df = pd.read_csv(r'C:\\Users\\mayur\\AazonWbsCaping.csv')\n",
    "\n",
    "print(df)"
   ]
  }
 ],
 "metadata": {
  "kernelspec": {
   "display_name": "Python 3",
   "language": "python",
   "name": "python3"
  },
  "language_info": {
   "codemirror_mode": {
    "name": "ipython",
    "version": 3
   },
   "file_extension": ".py",
   "mimetype": "text/x-python",
   "name": "python",
   "nbconvert_exporter": "python",
   "pygments_lexer": "ipython3",
   "version": "3.8.8"
  }
 },
 "nbformat": 4,
 "nbformat_minor": 5
}
